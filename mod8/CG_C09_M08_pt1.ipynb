{
 "cells": [
  {
   "cell_type": "markdown",
   "id": "b0937608",
   "metadata": {},
   "source": [
    "# Part 1: Natural Language Processing"
   ]
  },
  {
   "cell_type": "code",
   "execution_count": null,
   "id": "ee9ee709",
   "metadata": {},
   "outputs": [],
   "source": [
    "# Import necessary libraries\n",
    "import numpy as np\n",
    "import pandas as pd\n",
    "import matplotlib.pyplot as plt\n",
    "import seaborn as sns\n",
    "import re\n",
    "import string\n",
    "from collections import Counter\n",
    "\n",
    "# For text preprocessing\n",
    "import nltk\n",
    "from nltk.tokenize import word_tokenize, sent_tokenize\n",
    "from nltk.corpus import stopwords\n",
    "from nltk.stem import PorterStemmer, WordNetLemmatizer\n",
    "from nltk.util import ngrams\n",
    "\n",
    "# Download necessary NLTK data\n",
    "nltk.download('punkt')\n",
    "nltk.download('stopwords')\n",
    "nltk.download('wordnet')\n",
    "nltk.download('averaged_perceptron_tagger')\n",
    "nltk.download('punkt_tab')\n",
    "nltk.download('averaged_perceptron_tagger_eng')\n",
    "\n",
    "# For dataset loading\n",
    "from sklearn.datasets import fetch_20newsgroups\n",
    "\n",
    "# For modeling\n",
    "from sklearn.model_selection import train_test_split, cross_val_score, GridSearchCV\n",
    "from sklearn.naive_bayes import MultinomialNB\n",
    "from sklearn.metrics import accuracy_score, classification_report, confusion_matrix\n",
    "from sklearn.pipeline import Pipeline\n",
    "from sklearn.feature_extraction.text import CountVectorizer, TfidfVectorizer"
   ]
  },
  {
   "cell_type": "code",
   "execution_count": null,
   "id": "cc2afe5a",
   "metadata": {},
   "outputs": [
    {
     "name": "stdout",
     "output_type": "stream",
     "text": [
      "Dataset shape: (2236, 2)\n",
      "\n",
      "Category distribution:\n",
      "rec.autos             594\n",
      "sci.space             593\n",
      "comp.graphics         584\n",
      "talk.politics.misc    465\n",
      "Name: category, dtype: int64\n",
      "\n",
      "Sample document:\n",
      "From: bob1@cos.com (Bob Blackshaw)\n",
      "Subject: Re: Dumbest Driver Action\n",
      "Organization: Corporation for Open Systems\n",
      "Distribution: usa \n",
      "Lines: 41\n",
      "\n",
      "In <C5Dq2n.5uB@news.cso.uiuc.edu> mwbg9715@uxa.cso.uiuc.edu (Mark Wayne Blunier) writes:\n",
      "\n",
      ">jimf@centerline.com (Jim Frost) writes:\n",
      "\n",
      ">>I wish I had the figures with me to back me up, but I recall\n",
      ">>statistics showing that women tended to have more accidents than men\n",
      ">>but the damage was generally quite minor.  Men had fewer but far more\n",
      ">>expensive acciden\n"
     ]
    },
    {
     "name": "stderr",
     "output_type": "stream",
     "text": [
      "[nltk_data] Downloading package punkt to /home/asdfg/nltk_data...\n",
      "[nltk_data]   Package punkt is already up-to-date!\n",
      "[nltk_data] Downloading package stopwords to /home/asdfg/nltk_data...\n",
      "[nltk_data]   Package stopwords is already up-to-date!\n",
      "[nltk_data] Downloading package wordnet to /home/asdfg/nltk_data...\n",
      "[nltk_data]   Package wordnet is already up-to-date!\n",
      "[nltk_data] Downloading package averaged_perceptron_tagger to\n",
      "[nltk_data]     /home/asdfg/nltk_data...\n",
      "[nltk_data]   Package averaged_perceptron_tagger is already up-to-\n",
      "[nltk_data]       date!\n",
      "[nltk_data] Downloading package punkt_tab to /home/asdfg/nltk_data...\n",
      "[nltk_data]   Package punkt_tab is already up-to-date!\n",
      "[nltk_data] Downloading package averaged_perceptron_tagger_eng to\n",
      "[nltk_data]     /home/asdfg/nltk_data...\n",
      "[nltk_data]   Package averaged_perceptron_tagger_eng is already up-to-\n",
      "[nltk_data]       date!\n"
     ]
    }
   ],
   "source": [
    "# Set random seed for reproducibility\n",
    "np.random.seed(42)\n",
    "\n",
    "# Load a subset of the 20 Newsgroups dataset\n",
    "categories = ['comp.graphics', 'rec.autos', 'sci.space', 'talk.politics.misc']\n",
    "newsgroups = fetch_20newsgroups(subset='train', categories=categories, random_state=42)\n",
    "\n",
    "# Create a DataFrame for easier manipulation\n",
    "df = pd.DataFrame({\n",
    "   'text': newsgroups.data,\n",
    "   'category': [newsgroups.target_names[target] for target in newsgroups.target]\n",
    "})\n",
    "\n",
    "# Preview the data\n",
    "print(f\"Dataset shape: {df.shape}\")\n",
    "print(\"\\nCategory distribution:\")\n",
    "print(df['category'].value_counts())\n",
    "print(\"\\nSample document:\")\n",
    "print(df['text'][10][:500])  # Print first 500 characters of a sample document"
   ]
  },
  {
   "cell_type": "code",
   "execution_count": 2,
   "id": "14c47d63",
   "metadata": {},
   "outputs": [
    {
     "data": {
      "text/html": [
       "<div>\n",
       "<style scoped>\n",
       "    .dataframe tbody tr th:only-of-type {\n",
       "        vertical-align: middle;\n",
       "    }\n",
       "\n",
       "    .dataframe tbody tr th {\n",
       "        vertical-align: top;\n",
       "    }\n",
       "\n",
       "    .dataframe thead th {\n",
       "        text-align: right;\n",
       "    }\n",
       "</style>\n",
       "<table border=\"1\" class=\"dataframe\">\n",
       "  <thead>\n",
       "    <tr style=\"text-align: right;\">\n",
       "      <th></th>\n",
       "      <th>text</th>\n",
       "      <th>category</th>\n",
       "    </tr>\n",
       "  </thead>\n",
       "  <tbody>\n",
       "    <tr>\n",
       "      <th>0</th>\n",
       "      <td>From: nfotis@ntua.gr (Nick C. Fotis)\\nSubject:...</td>\n",
       "      <td>comp.graphics</td>\n",
       "    </tr>\n",
       "    <tr>\n",
       "      <th>1</th>\n",
       "      <td>From: cdm@pmafire.inel.gov (Dale Cook)\\nSubjec...</td>\n",
       "      <td>talk.politics.misc</td>\n",
       "    </tr>\n",
       "    <tr>\n",
       "      <th>2</th>\n",
       "      <td>From: rick@trystro.uucp (Richard Nickle)\\nSubj...</td>\n",
       "      <td>sci.space</td>\n",
       "    </tr>\n",
       "    <tr>\n",
       "      <th>3</th>\n",
       "      <td>From: marshatt@feserve.cc.purdue.edu (Zauberer...</td>\n",
       "      <td>rec.autos</td>\n",
       "    </tr>\n",
       "    <tr>\n",
       "      <th>4</th>\n",
       "      <td>From: Clinton-HQ@Campaign92.Org (Clinton/Gore ...</td>\n",
       "      <td>talk.politics.misc</td>\n",
       "    </tr>\n",
       "  </tbody>\n",
       "</table>\n",
       "</div>"
      ],
      "text/plain": [
       "                                                text            category\n",
       "0  From: nfotis@ntua.gr (Nick C. Fotis)\\nSubject:...       comp.graphics\n",
       "1  From: cdm@pmafire.inel.gov (Dale Cook)\\nSubjec...  talk.politics.misc\n",
       "2  From: rick@trystro.uucp (Richard Nickle)\\nSubj...           sci.space\n",
       "3  From: marshatt@feserve.cc.purdue.edu (Zauberer...           rec.autos\n",
       "4  From: Clinton-HQ@Campaign92.Org (Clinton/Gore ...  talk.politics.misc"
      ]
     },
     "execution_count": 2,
     "metadata": {},
     "output_type": "execute_result"
    }
   ],
   "source": [
    "df.head()"
   ]
  },
  {
   "cell_type": "code",
   "execution_count": 37,
   "id": "76020d65",
   "metadata": {},
   "outputs": [],
   "source": [
    "# Preprocess text\n",
    "stop_words = set(stopwords.words('english'))\n",
    "lemmatizer = WordNetLemmatizer()\n",
    "\n",
    "# Helper function for lemmatization with POS tagging\n",
    "def get_wordnet_pos(treebank_tag):\n",
    "    \"\"\"\n",
    "    Convert NLTK POS tags to WordNet POS tags\n",
    "    \"\"\"\n",
    "    if treebank_tag.startswith('J'):\n",
    "        return nltk.corpus.wordnet.ADJ\n",
    "    elif treebank_tag.startswith('V'):\n",
    "        return nltk.corpus.wordnet.VERB\n",
    "    elif treebank_tag.startswith('N'):\n",
    "        return nltk.corpus.wordnet.NOUN\n",
    "    elif treebank_tag.startswith('R'):\n",
    "        return nltk.corpus.wordnet.ADV\n",
    "    else:\n",
    "        return nltk.corpus.wordnet.NOUN\n",
    "\n",
    "def preprocess_text(text, remove_stopwords=True, lemmatize=True):\n",
    "    # Remove special characters/numbers\n",
    "    # Removing punctuation will make email addresses hard to identify, but their frequency should be low so they won't have a large impact on analysis\n",
    "    html_clean = re.compile('<.*?>')\n",
    "    text = re.sub(html_clean, '', text)                 # Remove html tags\n",
    "    text = \" \".join([w for w in text.split(' ') if len(w) >= 2])   # Keep only words 2+ characters long\n",
    "    text = re.sub(r'[^\\w\\s]', '', text)                 # Remove punctuation\n",
    "        \n",
    "    # Tokenize\n",
    "    tokens = word_tokenize(text)\n",
    "\n",
    "    # Convert to lowercase and remove stop words\n",
    "    tokens = [token.lower() for token in tokens if token.lower() not in stop_words]\n",
    "\n",
    "    # Lemmatize or stem tokens\n",
    "    tagged_tokens = nltk.pos_tag(tokens)\n",
    "    pos_tokens = [(word[0], get_wordnet_pos(word[1])) for word in tagged_tokens]\n",
    "    lem_tokens = [lemmatizer.lemmatize(word[0], word[1]) for word in pos_tokens]\n",
    "    \n",
    "    # Return the cleaned token list\n",
    "    return ' '.join(lem_tokens)"
   ]
  },
  {
   "cell_type": "code",
   "execution_count": null,
   "id": "7ac96816",
   "metadata": {},
   "outputs": [],
   "source": [
    "df['processed_tokens'] = df['text'].apply(preprocess_text)\n",
    "df['processed_tokens'] = df['processed_tokens'].apply(lambda x: x.split(' '))"
   ]
  },
  {
   "cell_type": "code",
   "execution_count": 41,
   "id": "b128c372",
   "metadata": {},
   "outputs": [
    {
     "data": {
      "text/html": [
       "<div>\n",
       "<style scoped>\n",
       "    .dataframe tbody tr th:only-of-type {\n",
       "        vertical-align: middle;\n",
       "    }\n",
       "\n",
       "    .dataframe tbody tr th {\n",
       "        vertical-align: top;\n",
       "    }\n",
       "\n",
       "    .dataframe thead th {\n",
       "        text-align: right;\n",
       "    }\n",
       "</style>\n",
       "<table border=\"1\" class=\"dataframe\">\n",
       "  <thead>\n",
       "    <tr style=\"text-align: right;\">\n",
       "      <th></th>\n",
       "      <th>text</th>\n",
       "      <th>category</th>\n",
       "      <th>processed_tokens</th>\n",
       "    </tr>\n",
       "  </thead>\n",
       "  <tbody>\n",
       "    <tr>\n",
       "      <th>0</th>\n",
       "      <td>From: nfotis@ntua.gr (Nick C. Fotis)\\nSubject:...</td>\n",
       "      <td>comp.graphics</td>\n",
       "      <td>[nfotisntuagr, nick, c, fotis, subject, radios...</td>\n",
       "    </tr>\n",
       "    <tr>\n",
       "      <th>1</th>\n",
       "      <td>From: cdm@pmafire.inel.gov (Dale Cook)\\nSubjec...</td>\n",
       "      <td>talk.politics.misc</td>\n",
       "      <td>[cdmpmafireinelgov, dale, cook, subject, good,...</td>\n",
       "    </tr>\n",
       "    <tr>\n",
       "      <th>2</th>\n",
       "      <td>From: rick@trystro.uucp (Richard Nickle)\\nSubj...</td>\n",
       "      <td>sci.space</td>\n",
       "      <td>[ricktrystrouucp, richard, nickle, subject, re...</td>\n",
       "    </tr>\n",
       "    <tr>\n",
       "      <th>3</th>\n",
       "      <td>From: marshatt@feserve.cc.purdue.edu (Zauberer...</td>\n",
       "      <td>rec.autos</td>\n",
       "      <td>[marshattfeserveccpurdueedu, zauberer, subject...</td>\n",
       "    </tr>\n",
       "    <tr>\n",
       "      <th>4</th>\n",
       "      <td>From: Clinton-HQ@Campaign92.Org (Clinton/Gore ...</td>\n",
       "      <td>talk.politics.misc</td>\n",
       "      <td>[clintonhqcampaign92org, clintongore, 92, subj...</td>\n",
       "    </tr>\n",
       "  </tbody>\n",
       "</table>\n",
       "</div>"
      ],
      "text/plain": [
       "                                                text            category  \\\n",
       "0  From: nfotis@ntua.gr (Nick C. Fotis)\\nSubject:...       comp.graphics   \n",
       "1  From: cdm@pmafire.inel.gov (Dale Cook)\\nSubjec...  talk.politics.misc   \n",
       "2  From: rick@trystro.uucp (Richard Nickle)\\nSubj...           sci.space   \n",
       "3  From: marshatt@feserve.cc.purdue.edu (Zauberer...           rec.autos   \n",
       "4  From: Clinton-HQ@Campaign92.Org (Clinton/Gore ...  talk.politics.misc   \n",
       "\n",
       "                                    processed_tokens  \n",
       "0  [nfotisntuagr, nick, c, fotis, subject, radios...  \n",
       "1  [cdmpmafireinelgov, dale, cook, subject, good,...  \n",
       "2  [ricktrystrouucp, richard, nickle, subject, re...  \n",
       "3  [marshattfeserveccpurdueedu, zauberer, subject...  \n",
       "4  [clintonhqcampaign92org, clintongore, 92, subj...  "
      ]
     },
     "execution_count": 41,
     "metadata": {},
     "output_type": "execute_result"
    }
   ],
   "source": [
    "df.head()"
   ]
  },
  {
   "cell_type": "code",
   "execution_count": 42,
   "id": "4a235842",
   "metadata": {},
   "outputs": [
    {
     "name": "stdout",
     "output_type": "stream",
     "text": [
      "[('line', 2591), ('subject', 2389), ('organization', 2307), ('would', 1967), ('write', 1853), ('get', 1702), ('article', 1664), ('one', 1562), ('use', 1530), ('go', 1350), ('dont', 1282), ('space', 1281), ('think', 1265), ('make', 1263), ('car', 1262), ('say', 1249), ('know', 1224), ('like', 1221), ('university', 1139), ('people', 1119)]\n",
      "[(('organization', 'university'), 374), (('mr', 'stephanopoulos'), 341), (('write', 'article'), 313), (('dont', 'know'), 210), (('distribution', 'world'), 207), (('usa', 'line'), 186), (('distribution', 'usa'), 146), (('dont', 'think'), 131), (('would', 'like'), 122), (('university', 'line'), 119), (('world', 'nntppostinghost'), 118), (('anyone', 'know'), 113), (('writes', 'article'), 112), (('state', 'university'), 110), (('im', 'sure'), 108), (('new', 'york'), 106), (('space', 'station'), 102), (('health', 'care'), 99), (('united', 'state'), 98), (('henry', 'spencer'), 96)]\n"
     ]
    }
   ],
   "source": [
    "# Single words\n",
    "counter = Counter([token for doc in df['processed_tokens'] for token in doc])\n",
    "print(counter.most_common(20))\n",
    "\n",
    "# Bigrams\n",
    "from nltk.util import ngrams\n",
    "bigram_counts = Counter(ngrams(df['processed_tokens'].sum(), 2))\n",
    "print(bigram_counts.most_common(20))"
   ]
  },
  {
   "cell_type": "code",
   "execution_count": 43,
   "id": "72e4ad01",
   "metadata": {},
   "outputs": [],
   "source": [
    "# Split data into training and test sets\n",
    "X_train, X_test, y_train, y_test = train_test_split(\n",
    "    df['text'],\n",
    "    df['category'],\n",
    "    test_size=0.2,\n",
    "    random_state=42,\n",
    "    stratify=df['category']\n",
    ")\n",
    "\n",
    "# Create and fit a Bag of Words vectorizer (preprocessor=preprocess_text, max_features=50)\n",
    "count_vectorizer = CountVectorizer(\n",
    "    preprocessor=preprocess_text,\n",
    "    max_features=50\n",
    ")\n",
    "X_train_counts = count_vectorizer.fit_transform(X_train)\n",
    "\n",
    "# Create and fit a TF-IDF vectorizer (preprocessor=preprocess_text, max_features=50)\n",
    "tfidf_vectorizer = TfidfVectorizer(\n",
    "    preprocessor=preprocess_text,\n",
    "    max_features=50\n",
    ")\n",
    "X_train_tfidf = tfidf_vectorizer.fit_transform(X_train)"
   ]
  },
  {
   "cell_type": "code",
   "execution_count": null,
   "id": "4971d0d8",
   "metadata": {},
   "outputs": [
    {
     "name": "stdout",
     "output_type": "stream",
     "text": [
      "Training set size: 1788\n",
      "Testing set size: 448\n",
      "\n",
      "Class distribution in training set:\n",
      "rec.autos             475\n",
      "sci.space             474\n",
      "comp.graphics         467\n",
      "talk.politics.misc    372\n",
      "Name: category, dtype: int64\n",
      "\n",
      "Class distribution in testing set:\n",
      "sci.space             119\n",
      "rec.autos             119\n",
      "comp.graphics         117\n",
      "talk.politics.misc     93\n",
      "Name: category, dtype: int64\n",
      "Bag of Words vocabulary size: 50\n",
      "TF-IDF vocabulary size: 50\n",
      "\n",
      "Bag of Words feature matrix shape: (1788, 50)\n",
      "TF-IDF feature matrix shape: (1788, 50)\n",
      "\n",
      "Sample of feature names: ['also' 'article' 'car' 'could' 'dont' 'even' 'file' 'find' 'first' 'get']\n"
     ]
    }
   ],
   "source": [
    "# Run this cell without changes\n",
    "# Confirm the split\n",
    "print(f\"Training set size: {len(X_train)}\")\n",
    "print(f\"Testing set size: {len(X_test)}\")\n",
    "print(f\"\\nClass distribution in training set:\\n{y_train.value_counts()}\")\n",
    "print(f\"\\nClass distribution in testing set:\\n{y_test.value_counts()}\")\n",
    "\n",
    "# Examine the vocabulary size for each vectorizer\n",
    "count_vocab_size = len(count_vectorizer.get_feature_names_out())\n",
    "tfidf_vocab_size = len(tfidf_vectorizer.get_feature_names_out())\n",
    "\n",
    "print(f\"Bag of Words vocabulary size: {count_vocab_size}\")\n",
    "print(f\"TF-IDF vocabulary size: {tfidf_vocab_size}\")\n",
    "\n",
    "# Examine the feature matrices\n",
    "print(f\"\\nBag of Words feature matrix shape: {X_train_counts.shape}\")\n",
    "print(f\"TF-IDF feature matrix shape: {X_train_tfidf.shape}\")\n",
    "\n",
    "# Show the first few feature names\n",
    "print(f\"\\nSample of feature names: {count_vectorizer.get_feature_names_out()[:10]}\")"
   ]
  },
  {
   "cell_type": "code",
   "execution_count": null,
   "id": "d376987c",
   "metadata": {},
   "outputs": [],
   "source": [
    "# Create and train a Multinomial Naive Bayes model with Bag of Words features\n",
    "nb_bow = MultinomialNB(alpha=1.0)\n",
    "nb_bow.fit(X_train_counts, y_train)\n",
    "\n",
    "# Create and train a Multinomial Naive Bayes model with TF-IDF features\n",
    "nb_tfidf = MultinomialNB(alpha=1.0)\n",
    "nb_tfidf.fit(X_train_tfidf, y_train)"
   ]
  },
  {
   "cell_type": "code",
   "execution_count": 48,
   "id": "431b3f0f",
   "metadata": {},
   "outputs": [],
   "source": [
    "# Transform the test data with both vectorizers\n",
    "X_test_counts = count_vectorizer.transform(X_test)\n",
    "X_test_tfidf = tfidf_vectorizer.transform(X_test)\n",
    "\n",
    "# Predict on the test data with both models\n",
    "y_pred_bow = nb_bow.predict(X_test_counts)\n",
    "y_pred_tfidf = nb_tfidf.predict(X_test_counts)\n",
    "\n",
    "# Function to evaluate a model and display results\n",
    "def evaluate_model(y_true, y_pred, model_name):\n",
    "    \"\"\"\n",
    "    Evaluate a model and display its performance metrics.\n",
    "    \n",
    "    Parameters:\n",
    "    -----------\n",
    "    y_true : array-like\n",
    "        True class labels\n",
    "    y_pred : array-like\n",
    "        Predicted class labels\n",
    "    model_name : str\n",
    "        Name of the model being evaluated\n",
    "        \n",
    "    Returns:\n",
    "    --------\n",
    "    float\n",
    "        Accuracy score\n",
    "    \"\"\"\n",
    "    # Calculate accuracy\n",
    "    accuracy = accuracy_score(y_true, y_pred)\n",
    "    \n",
    "    # Print evaluation results\n",
    "    print(f\"Evaluation for {model_name}:\")\n",
    "    print(f\"Accuracy: {accuracy:.4f}\")\n",
    "    \n",
    "    # Generate and print classification report\n",
    "    report = classification_report(y_true, y_pred)\n",
    "    print(f\"\\nClassification Report:\\n{report}\")\n",
    "    \n",
    "    # Return the accuracy\n",
    "    return accuracy"
   ]
  },
  {
   "cell_type": "code",
   "execution_count": 49,
   "id": "62885fcd",
   "metadata": {},
   "outputs": [
    {
     "name": "stdout",
     "output_type": "stream",
     "text": [
      "Evaluation for Bag of Words + Naive Bayes:\n",
      "Accuracy: 0.6987\n",
      "\n",
      "Classification Report:\n",
      "                    precision    recall  f1-score   support\n",
      "\n",
      "     comp.graphics       0.68      0.72      0.70       117\n",
      "         rec.autos       0.63      0.86      0.73       119\n",
      "         sci.space       0.81      0.62      0.70       119\n",
      "talk.politics.misc       0.74      0.57      0.64        93\n",
      "\n",
      "          accuracy                           0.70       448\n",
      "         macro avg       0.72      0.69      0.69       448\n",
      "      weighted avg       0.71      0.70      0.70       448\n",
      "\n",
      "Evaluation for TF-IDF + Naive Bayes:\n",
      "Accuracy: 0.7545\n",
      "\n",
      "Classification Report:\n",
      "                    precision    recall  f1-score   support\n",
      "\n",
      "     comp.graphics       0.69      0.84      0.75       117\n",
      "         rec.autos       0.84      0.83      0.84       119\n",
      "         sci.space       0.81      0.64      0.71       119\n",
      "talk.politics.misc       0.70      0.70      0.70        93\n",
      "\n",
      "          accuracy                           0.75       448\n",
      "         macro avg       0.76      0.75      0.75       448\n",
      "      weighted avg       0.76      0.75      0.75       448\n",
      "\n"
     ]
    },
    {
     "data": {
      "image/png": "[encoded data removed]",
      "text/plain": [
       "<Figure size 1600x600 with 4 Axes>"
      ]
     },
     "metadata": {},
     "output_type": "display_data"
    },
    {
     "data": {
      "image/png": "[encoded data removed]",
      "text/plain": [
       "<Figure size 1000x600 with 1 Axes>"
      ]
     },
     "metadata": {},
     "output_type": "display_data"
    }
   ],
   "source": [
    "# Evaluate both models\n",
    "bow_accuracy = evaluate_model(y_test, y_pred_bow, \"Bag of Words + Naive Bayes\")\n",
    "tfidf_accuracy = evaluate_model(y_test, y_pred_tfidf, \"TF-IDF + Naive Bayes\")\n",
    "\n",
    "# Create confusion matrices for both models\n",
    "fig, axes = plt.subplots(1, 2, figsize=(16, 6))\n",
    "\n",
    "# Confusion matrix for Bag of Words model\n",
    "cm_bow = confusion_matrix(y_test, y_pred_bow)\n",
    "sns.heatmap(cm_bow, annot=True, fmt='d', cmap='Blues', xticklabels=nb_bow.classes_, \n",
    "            yticklabels=nb_bow.classes_, ax=axes[0])\n",
    "axes[0].set_title('Confusion Matrix - Bag of Words Model', fontsize=12)\n",
    "axes[0].set_xlabel('Predicted Label', fontsize=10)\n",
    "axes[0].set_ylabel('True Label', fontsize=10)\n",
    "\n",
    "# Confusion matrix for TF-IDF model\n",
    "cm_tfidf = confusion_matrix(y_test, y_pred_tfidf)\n",
    "sns.heatmap(cm_tfidf, annot=True, fmt='d', cmap='Blues', xticklabels=nb_tfidf.classes_, \n",
    "            yticklabels=nb_tfidf.classes_, ax=axes[1])\n",
    "axes[1].set_title('Confusion Matrix - TF-IDF Model', fontsize=12)\n",
    "axes[1].set_xlabel('Predicted Label', fontsize=10)\n",
    "axes[1].set_ylabel('True Label', fontsize=10)\n",
    "\n",
    "plt.tight_layout()\n",
    "plt.show()\n",
    "\n",
    "# Compare model accuracies\n",
    "models = ['Bag of Words + Naive Bayes', 'TF-IDF + Naive Bayes']\n",
    "accuracies = [bow_accuracy, tfidf_accuracy]\n",
    "\n",
    "plt.figure(figsize=(10, 6))\n",
    "sns.barplot(x=models, y=accuracies)\n",
    "plt.title('Model Accuracy Comparison', fontsize=14)\n",
    "plt.xlabel('Model', fontsize=12)\n",
    "plt.ylabel('Accuracy', fontsize=12)\n",
    "plt.ylim(0, 1)\n",
    "plt.xticks(rotation=15)\n",
    "\n",
    "# Add accuracy labels to the bars\n",
    "for i, acc in enumerate(accuracies):\n",
    "    plt.text(i, acc + 0.01, f'{acc:.4f}', ha='center', va='bottom', fontsize=12)\n",
    "\n",
    "plt.tight_layout()\n",
    "plt.show()"
   ]
  },
  {
   "cell_type": "code",
   "execution_count": null,
   "id": "71953ff8",
   "metadata": {},
   "outputs": [
    {
     "name": "stdout",
     "output_type": "stream",
     "text": [
      "Fitting 5 folds for each of 144 candidates, totalling 720 fits\n"
     ]
    }
   ],
   "source": [
    "# TF-IDF produces the more accurate model\n",
    "text_clf = Pipeline([\n",
    "    ('vectorizer', TfidfVectorizer(preprocessor=preprocess_text, lowercase=False)),\n",
    "    ('classifier', MultinomialNB())\n",
    "])\n",
    "\n",
    "# Perform grid search to find best parameters\n",
    "param_grid = {\n",
    "    # Vectorizer type and parameters\n",
    "    'vectorizer': [count_vectorizer, tfidf_vectorizer],\n",
    "    \n",
    "    # Parameters for CountVectorizer and TfidfVectorizer\n",
    "    'vectorizer__max_features': [50, 75],\n",
    "    'vectorizer__min_df': [1, 2, 3],\n",
    "    'vectorizer__max_df': [0.85, 0.9, 0.95],\n",
    "    'vectorizer__ngram_range': [(1, 1), (1, 2)],\n",
    "    \n",
    "    # Classifier parameters\n",
    "    'classifier__alpha': [0.5, 1.0]\n",
    "}\n",
    "\n",
    "# Create a grid search object\n",
    "grid_search = GridSearchCV(\n",
    "    text_clf,\n",
    "    param_grid,\n",
    "    cv=5,\n",
    "    scoring='accuracy',\n",
    "    verbose=1\n",
    ")\n",
    "\n",
    "# Fit the grid search to the training data\n",
    "grid_search.fit(X_train, y_train)\n",
    "\n",
    "# Use the best estimator to make predictions on the test set\n",
    "best_model = grid_search.best_estimator_\n",
    "y_pred_grid = best_model.predict(X_test)"
   ]
  },
  {
   "cell_type": "code",
   "execution_count": 1,
   "id": "2fe5b29c",
   "metadata": {},
   "outputs": [
    {
     "name": "stdout",
     "output_type": "stream",
     "text": [
      "Best Parameters:\n"
     ]
    },
    {
     "ename": "NameError",
     "evalue": "name 'grid_search' is not defined",
     "output_type": "error",
     "traceback": [
      "\u001b[0;31m---------------------------------------------------------------------------\u001b[0m",
      "\u001b[0;31mNameError\u001b[0m                                 Traceback (most recent call last)",
      "\u001b[0;32m/tmp/ipykernel_122879/1948791195.py\u001b[0m in \u001b[0;36m<module>\u001b[0;34m\u001b[0m\n\u001b[1;32m      1\u001b[0m \u001b[0mprint\u001b[0m\u001b[0;34m(\u001b[0m\u001b[0;34m\"Best Parameters:\"\u001b[0m\u001b[0;34m)\u001b[0m\u001b[0;34m\u001b[0m\u001b[0;34m\u001b[0m\u001b[0m\n\u001b[0;32m----> 2\u001b[0;31m \u001b[0mprint\u001b[0m\u001b[0;34m(\u001b[0m\u001b[0mgrid_search\u001b[0m\u001b[0;34m.\u001b[0m\u001b[0mbest_params_\u001b[0m\u001b[0;34m)\u001b[0m\u001b[0;34m\u001b[0m\u001b[0;34m\u001b[0m\u001b[0m\n\u001b[0m\u001b[1;32m      3\u001b[0m \u001b[0mprint\u001b[0m\u001b[0;34m(\u001b[0m\u001b[0;34mf\"\\nBest Cross-Validation Score: {grid_search.best_score_:.4f}\"\u001b[0m\u001b[0;34m)\u001b[0m\u001b[0;34m\u001b[0m\u001b[0;34m\u001b[0m\u001b[0m\n",
      "\u001b[0;31mNameError\u001b[0m: name 'grid_search' is not defined"
     ]
    }
   ],
   "source": [
    "print(\"Best Parameters:\")\n",
    "print(grid_search.best_params_)\n",
    "print(f\"\\nBest Cross-Validation Score: {grid_search.best_score_:.4f}\")"
   ]
  },
  {
   "cell_type": "code",
   "execution_count": null,
   "id": "ffe3ea02",
   "metadata": {},
   "outputs": [],
   "source": [
    "# Evaluate improved model\n",
    "improved_tfidf_accuracy = evaluate_model(y_test, y_pred_grid, \"Improved TF-IDF + Naive Bayes\")"
   ]
  },
  {
   "cell_type": "markdown",
   "id": "9027ccfc",
   "metadata": {},
   "source": [
    "## Reflection\n",
    "\n",
    "This process may benefit from further refinement in what words to filter out. 'Subject' obviously shows up at least once per message, but it may be a semantically relevant word as well in the messages we receive."
   ]
  }
 ],
 "metadata": {
  "kernelspec": {
   "display_name": "cenv",
   "language": "python",
   "name": "python3"
  },
  "language_info": {
   "codemirror_mode": {
    "name": "ipython",
    "version": 3
   },
   "file_extension": ".py",
   "mimetype": "text/x-python",
   "name": "python",
   "nbconvert_exporter": "python",
   "pygments_lexer": "ipython3",
   "version": "3.7.16"
  }
 },
 "nbformat": 4,
 "nbformat_minor": 5
}
