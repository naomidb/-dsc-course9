{
 "cells": [
  {
   "cell_type": "code",
   "execution_count": 1,
   "id": "a9d5abf4",
   "metadata": {},
   "outputs": [
    {
     "name": "stderr",
     "output_type": "stream",
     "text": [
      "2025-06-21 21:06:26.334951: I tensorflow/core/platform/cpu_feature_guard.cc:193] This TensorFlow binary is optimized with oneAPI Deep Neural Network Library (oneDNN) to use the following CPU instructions in performance-critical operations:  SSE4.1 SSE4.2 AVX AVX2 FMA\n",
      "To enable them in other operations, rebuild TensorFlow with the appropriate compiler flags.\n",
      "/home/asdfg/miniconda3/envs/cenv/lib/python3.7/site-packages/tqdm/auto.py:22: TqdmWarning: IProgress not found. Please update jupyter and ipywidgets. See https://ipywidgets.readthedocs.io/en/stable/user_install.html\n",
      "  from .autonotebook import tqdm as notebook_tqdm\n"
     ]
    }
   ],
   "source": [
    "# Import necessary libraries\n",
    "import numpy as np\n",
    "import pandas as pd\n",
    "import matplotlib.pyplot as plt\n",
    "import seaborn as sns\n",
    "from sklearn.model_selection import train_test_split\n",
    "from sklearn.preprocessing import StandardScaler\n",
    "from sklearn.metrics import accuracy_score, mean_squared_error, confusion_matrix, classification_report\n",
    "from sklearn.datasets import load_digits\n",
    "\n",
    "# For deep learning\n",
    "import tensorflow as tf\n",
    "from tensorflow import keras\n",
    "from keras import layers\n",
    "\n",
    "# For PyTorch\n",
    "import torch\n",
    "import torch.nn as nn\n",
    "import torch.optim as optim\n",
    "from torch.utils.data import DataLoader, TensorDataset"
   ]
  },
  {
   "cell_type": "code",
   "execution_count": 2,
   "id": "98ce83ec",
   "metadata": {},
   "outputs": [
    {
     "data": {
      "image/png": "[encoded data removed]",
      "text/plain": [
       "<Figure size 1000x500 with 10 Axes>"
      ]
     },
     "metadata": {},
     "output_type": "display_data"
    },
    {
     "name": "stdout",
     "output_type": "stream",
     "text": [
      "Digits dataset: 1797 samples, 64 features\n"
     ]
    }
   ],
   "source": [
    "# Set random seeds for reproducibility\n",
    "np.random.seed(42)\n",
    "tf.random.set_seed(42)\n",
    "torch.manual_seed(42)\n",
    "\n",
    "# Load Digits dataset for classification\n",
    "digits = load_digits()\n",
    "X_digits = digits.data / 16.0\n",
    "y_digits = digits.target\n",
    "\n",
    "# Display sample digits\n",
    "plt.figure(figsize=(10, 5))\n",
    "for i in range(10):\n",
    "   plt.subplot(2, 5, i+1)\n",
    "   plt.imshow(digits.images[i], cmap='gray')\n",
    "   plt.title(f'Digit: {digits.target[i]}')\n",
    "   plt.axis('off')\n",
    "plt.tight_layout()\n",
    "plt.show()\n",
    "\n",
    "# Print information about dataset\n",
    "print(f\"Digits dataset: {X_digits.shape[0]} samples, {X_digits.shape[1]} features\")"
   ]
  },
  {
   "cell_type": "code",
   "execution_count": 3,
   "id": "8530e725",
   "metadata": {},
   "outputs": [],
   "source": [
    "X_train, X_test, y_train, y_test = train_test_split(X_digits, y_digits, test_size=0.2, random_state=42)"
   ]
  },
  {
   "cell_type": "code",
   "execution_count": 4,
   "id": "412824bb",
   "metadata": {},
   "outputs": [],
   "source": [
    "# Convert NumPy arrays to PyTorch tensors\n",
    "X_train_t = torch.tensor(X_train, dtype=torch.float32)\n",
    "y_train_t = torch.tensor(y_train, dtype=torch.long)\n",
    "X_test_t = torch.tensor(X_test, dtype=torch.float32)\n",
    "y_test_t = torch.tensor(y_test, dtype=torch.long)"
   ]
  },
  {
   "cell_type": "code",
   "execution_count": 5,
   "id": "8576d352",
   "metadata": {},
   "outputs": [
    {
     "name": "stderr",
     "output_type": "stream",
     "text": [
      "2025-06-21 21:07:51.220866: I tensorflow/core/platform/cpu_feature_guard.cc:193] This TensorFlow binary is optimized with oneAPI Deep Neural Network Library (oneDNN) to use the following CPU instructions in performance-critical operations:  SSE4.1 SSE4.2 AVX AVX2 FMA\n",
      "To enable them in other operations, rebuild TensorFlow with the appropriate compiler flags.\n",
      "2025-06-21 21:07:51.222482: I tensorflow/core/common_runtime/process_util.cc:146] Creating new thread pool with default inter op setting: 2. Tune using inter_op_parallelism_threads for best performance.\n"
     ]
    },
    {
     "name": "stdout",
     "output_type": "stream",
     "text": [
      "Epoch 1/30\n",
      "45/45 [==============================] - 2s 31ms/step - loss: 1.8289 - accuracy: 0.5484 - val_loss: 1.3201 - val_accuracy: 0.7222\n",
      "Epoch 2/30\n",
      "45/45 [==============================] - 1s 16ms/step - loss: 0.8511 - accuracy: 0.8775 - val_loss: 0.5142 - val_accuracy: 0.9056\n",
      "Epoch 3/30\n",
      "45/45 [==============================] - 1s 26ms/step - loss: 0.3818 - accuracy: 0.9283 - val_loss: 0.2848 - val_accuracy: 0.9278\n",
      "Epoch 4/30\n",
      "45/45 [==============================] - 1s 13ms/step - loss: 0.2477 - accuracy: 0.9513 - val_loss: 0.2058 - val_accuracy: 0.9500\n",
      "Epoch 5/30\n",
      "45/45 [==============================] - 1s 30ms/step - loss: 0.1850 - accuracy: 0.9617 - val_loss: 0.1690 - val_accuracy: 0.9528\n",
      "Epoch 6/30\n",
      "45/45 [==============================] - 2s 37ms/step - loss: 0.1489 - accuracy: 0.9673 - val_loss: 0.1487 - val_accuracy: 0.9639\n",
      "Epoch 7/30\n",
      "45/45 [==============================] - 1s 22ms/step - loss: 0.1365 - accuracy: 0.9694 - val_loss: 0.1321 - val_accuracy: 0.9639\n",
      "Epoch 8/30\n",
      "45/45 [==============================] - 1s 25ms/step - loss: 0.1114 - accuracy: 0.9756 - val_loss: 0.1210 - val_accuracy: 0.9667\n",
      "Epoch 9/30\n",
      "45/45 [==============================] - 1s 24ms/step - loss: 0.1016 - accuracy: 0.9756 - val_loss: 0.1283 - val_accuracy: 0.9639\n",
      "Epoch 10/30\n",
      "45/45 [==============================] - 3s 69ms/step - loss: 0.0859 - accuracy: 0.9791 - val_loss: 0.1176 - val_accuracy: 0.9611\n",
      "Epoch 11/30\n",
      "45/45 [==============================] - 1s 23ms/step - loss: 0.0753 - accuracy: 0.9868 - val_loss: 0.1038 - val_accuracy: 0.9750\n",
      "Epoch 12/30\n",
      "45/45 [==============================] - 1s 23ms/step - loss: 0.0670 - accuracy: 0.9854 - val_loss: 0.1063 - val_accuracy: 0.9722\n",
      "Epoch 13/30\n",
      "45/45 [==============================] - 1s 15ms/step - loss: 0.0587 - accuracy: 0.9882 - val_loss: 0.0999 - val_accuracy: 0.9694\n",
      "Epoch 14/30\n",
      "45/45 [==============================] - 0s 9ms/step - loss: 0.0564 - accuracy: 0.9903 - val_loss: 0.1014 - val_accuracy: 0.9639\n",
      "Epoch 15/30\n",
      "45/45 [==============================] - 0s 9ms/step - loss: 0.0475 - accuracy: 0.9923 - val_loss: 0.1010 - val_accuracy: 0.9750\n",
      "Epoch 16/30\n",
      "45/45 [==============================] - 1s 12ms/step - loss: 0.0458 - accuracy: 0.9923 - val_loss: 0.0933 - val_accuracy: 0.9806\n",
      "Epoch 17/30\n",
      "45/45 [==============================] - 0s 10ms/step - loss: 0.0387 - accuracy: 0.9944 - val_loss: 0.0965 - val_accuracy: 0.9750\n",
      "Epoch 18/30\n",
      "45/45 [==============================] - 1s 15ms/step - loss: 0.0365 - accuracy: 0.9951 - val_loss: 0.0936 - val_accuracy: 0.9750\n",
      "Epoch 19/30\n",
      "45/45 [==============================] - 1s 11ms/step - loss: 0.0346 - accuracy: 0.9944 - val_loss: 0.0924 - val_accuracy: 0.9750\n",
      "Epoch 20/30\n",
      "45/45 [==============================] - 1s 13ms/step - loss: 0.0285 - accuracy: 0.9972 - val_loss: 0.0941 - val_accuracy: 0.9667\n",
      "Epoch 21/30\n",
      "45/45 [==============================] - 0s 10ms/step - loss: 0.0309 - accuracy: 0.9958 - val_loss: 0.0935 - val_accuracy: 0.9722\n",
      "Epoch 22/30\n",
      "45/45 [==============================] - 1s 16ms/step - loss: 0.0230 - accuracy: 0.9972 - val_loss: 0.0958 - val_accuracy: 0.9778\n",
      "Epoch 23/30\n",
      "45/45 [==============================] - 0s 11ms/step - loss: 0.0219 - accuracy: 0.9979 - val_loss: 0.0934 - val_accuracy: 0.9722\n",
      "Epoch 24/30\n",
      "45/45 [==============================] - 0s 10ms/step - loss: 0.0210 - accuracy: 0.9972 - val_loss: 0.1032 - val_accuracy: 0.9778\n",
      "Epoch 25/30\n",
      "45/45 [==============================] - 1s 16ms/step - loss: 0.0191 - accuracy: 0.9979 - val_loss: 0.0913 - val_accuracy: 0.9778\n",
      "Epoch 26/30\n",
      "45/45 [==============================] - 1s 15ms/step - loss: 0.0166 - accuracy: 0.9986 - val_loss: 0.0959 - val_accuracy: 0.9750\n",
      "Epoch 27/30\n",
      "45/45 [==============================] - 0s 11ms/step - loss: 0.0155 - accuracy: 0.9986 - val_loss: 0.0914 - val_accuracy: 0.9778\n",
      "Epoch 28/30\n",
      "45/45 [==============================] - 1s 13ms/step - loss: 0.0143 - accuracy: 0.9979 - val_loss: 0.0931 - val_accuracy: 0.9750\n",
      "Epoch 29/30\n",
      "45/45 [==============================] - 1s 14ms/step - loss: 0.0145 - accuracy: 0.9972 - val_loss: 0.0995 - val_accuracy: 0.9750\n",
      "Epoch 30/30\n",
      "45/45 [==============================] - 0s 8ms/step - loss: 0.0135 - accuracy: 0.9986 - val_loss: 0.0945 - val_accuracy: 0.9750\n"
     ]
    }
   ],
   "source": [
    "model = tf.keras.Sequential([\n",
    "    layers.Dense(128, activation='relu', input_shape=(64,)),\n",
    "    layers.Dense(64, activation='relu'),\n",
    "    layers.Dense(10, activation='softmax')\n",
    "])\n",
    "\n",
    "model.compile(optimizer='adam', loss='sparse_categorical_crossentropy', metrics=['accuracy'])\n",
    "history = model.fit(X_train, y_train, validation_data=(X_test, y_test), epochs=30)"
   ]
  },
  {
   "cell_type": "code",
   "execution_count": 18,
   "id": "38c1d3e0",
   "metadata": {},
   "outputs": [],
   "source": [
    "# Model Evaluation\n",
    "keras_accuracy = np.mean(history.history['accuracy'])"
   ]
  },
  {
   "cell_type": "code",
   "execution_count": 8,
   "id": "5d1f0370",
   "metadata": {},
   "outputs": [],
   "source": [
    "input_dim = X_train_t.shape[1]\n",
    "hidden_dim=32\n",
    "\n",
    "class MLPClassifier(nn.Module):\n",
    "    def __init__(self, input_size=input_dim, hidden_size=hidden_dim, num_classes=10):\n",
    "        super(MLPClassifier, self).__init__()\n",
    "        self.fc1 = nn.Linear(input_size, hidden_size)\n",
    "        self.fc2 = nn.Linear(hidden_size, num_classes)\n",
    "\n",
    "    def forward(self, x):\n",
    "        # Hidden layer + ReLU\n",
    "        x = nn.functional.relu(self.fc1(x))\n",
    "        # Output layer (no activation, CrossEntropyLoss will apply softmax internally)\n",
    "        x = self.fc2(x)\n",
    "        return x"
   ]
  },
  {
   "cell_type": "code",
   "execution_count": 10,
   "id": "cacf8609",
   "metadata": {},
   "outputs": [],
   "source": [
    "ts_model = MLPClassifier()\n",
    "criterion = nn.CrossEntropyLoss()\n",
    "optimizer = optim.Adam(\n",
    "    ts_model.parameters(),\n",
    "    lr=0.01,\n",
    "    betas=(0.9,0.999),\n",
    "    eps=1e-8\n",
    ")"
   ]
  },
  {
   "cell_type": "code",
   "execution_count": 11,
   "id": "a837db33",
   "metadata": {},
   "outputs": [
    {
     "name": "stdout",
     "output_type": "stream",
     "text": [
      "Epoch [10/50], Loss: 0.0338\n",
      "Epoch [20/50], Loss: 0.0065\n",
      "Epoch [30/50], Loss: 0.0015\n",
      "Epoch [40/50], Loss: 0.0045\n",
      "Epoch [50/50], Loss: 0.0000\n"
     ]
    }
   ],
   "source": [
    "# Train the model\n",
    "train_ds = TensorDataset(X_train_t, y_train_t)\n",
    "train_loader = DataLoader(train_ds, batch_size=16, shuffle=True)\n",
    "\n",
    "num_epochs = 50\n",
    "for epoch in range(num_epochs):\n",
    "    for batch_x, batch_y in train_loader:\n",
    "        optimizer.zero_grad()\n",
    "        outputs = ts_model(batch_x)\n",
    "        loss = criterion(outputs, batch_y)\n",
    "        loss.backward()\n",
    "        optimizer.step()\n",
    "\n",
    "    if (epoch+1) % 10 == 0:\n",
    "        print(f\"Epoch [{epoch+1}/{num_epochs}], Loss: {loss.item():.4f}\")"
   ]
  },
  {
   "cell_type": "code",
   "execution_count": 12,
   "id": "1b1d16a6",
   "metadata": {},
   "outputs": [],
   "source": [
    "# Model Evaluation\n",
    "ts_model.eval()\n",
    "with torch.no_grad():\n",
    "    outputs_test = ts_model(X_test_t)\n",
    "    ts_predicted = torch.argmax(outputs_test, dim=1)\n",
    "    ts_accuracy = (ts_predicted == y_test_t).sum().item() / y_test_t.size(0)"
   ]
  },
  {
   "cell_type": "code",
   "execution_count": 19,
   "id": "7767ac58",
   "metadata": {},
   "outputs": [
    {
     "name": "stdout",
     "output_type": "stream",
     "text": [
      "Original Model Accuracy: 0.9676\n",
      "MLP Model Accuracy: 0.9639\n"
     ]
    }
   ],
   "source": [
    "print(f'Original Model Accuracy: {keras_accuracy:.4f}')\n",
    "print(f'MLP Model Accuracy: {ts_accuracy:.4f}')"
   ]
  },
  {
   "cell_type": "code",
   "execution_count": 20,
   "id": "0c8e54cb",
   "metadata": {},
   "outputs": [
    {
     "name": "stdout",
     "output_type": "stream",
     "text": [
      "12/12 [==============================] - 0s 21ms/step\n"
     ]
    },
    {
     "data": {
      "image/png": "[encoded data removed]",
      "text/plain": [
       "<Figure size 640x480 with 2 Axes>"
      ]
     },
     "metadata": {},
     "output_type": "display_data"
    }
   ],
   "source": [
    "predictions = model.predict(X_test).argmax(axis=1)\n",
    "cm = confusion_matrix(y_test, predictions)\n",
    "sns.heatmap(cm, annot=True, fmt='d')\n",
    "plt.show()"
   ]
  }
 ],
 "metadata": {
  "kernelspec": {
   "display_name": "cenv",
   "language": "python",
   "name": "python3"
  },
  "language_info": {
   "codemirror_mode": {
    "name": "ipython",
    "version": 3
   },
   "file_extension": ".py",
   "mimetype": "text/x-python",
   "name": "python",
   "nbconvert_exporter": "python",
   "pygments_lexer": "ipython3",
   "version": "3.7.16"
  }
 },
 "nbformat": 4,
 "nbformat_minor": 5
}
